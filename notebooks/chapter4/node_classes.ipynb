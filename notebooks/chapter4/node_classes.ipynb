{
 "cells": [
  {
   "cell_type": "markdown",
   "metadata": {},
   "source": [
    "## Lists and Pointer Structures"
   ]
  },
  {
   "cell_type": "code",
   "execution_count": 1,
   "metadata": {},
   "outputs": [],
   "source": [
    "class Node:\n",
    "    \n",
    "    def __init__(self, data=None):\n",
    "        self.data = data\n",
    "        self.next = None\n",
    "    \n",
    "    def __str__(self):\n",
    "        return str(data)\n"
   ]
  },
  {
   "cell_type": "markdown",
   "metadata": {},
   "source": [
    "## Introducing lists\n",
    "The list is an important and popular data structure. \n",
    "There are three kinds of the list—singly linked list, \n",
    "doubly linked list, and circular linked list."
   ]
  },
  {
   "cell_type": "markdown",
   "metadata": {},
   "source": [
    "### Singly linked lists"
   ]
  },
  {
   "cell_type": "code",
   "execution_count": 2,
   "metadata": {},
   "outputs": [],
   "source": [
    "n1 = Node(\"eggs\")\n",
    "n2 = Node(\"jam\")\n",
    "n3 = Node(\"spam\")"
   ]
  },
  {
   "cell_type": "code",
   "execution_count": 3,
   "metadata": {},
   "outputs": [],
   "source": [
    "n1.next = n2\n",
    "n2.next = n3"
   ]
  },
  {
   "cell_type": "code",
   "execution_count": 4,
   "metadata": {},
   "outputs": [
    {
     "name": "stdout",
     "output_type": "stream",
     "text": [
      "eggs\n",
      "jam\n",
      "spam\n"
     ]
    }
   ],
   "source": [
    "current = n1\n",
    "while current:\n",
    "    print(current.data)\n",
    "    current = current.next"
   ]
  },
  {
   "cell_type": "code",
   "execution_count": 9,
   "metadata": {},
   "outputs": [],
   "source": [
    "class SinglyLinkedList:\n",
    "    \n",
    "    def __init__(self):\n",
    "        self.tail = None  # for the first node in the list\n",
    "    \n",
    "    def append(self, data):\n",
    "        # encapsulate the data \n",
    "        node = Node(data)\n",
    "        if not self.tail:\n",
    "            self.tail = node\n",
    "        else:\n",
    "            current = self.tail \n",
    "            while current.next:\n",
    "                current = current.next \n",
    "            current.next = node"
   ]
  },
  {
   "cell_type": "code",
   "execution_count": 10,
   "metadata": {},
   "outputs": [],
   "source": [
    "words = SinglyLinkedList()"
   ]
  },
  {
   "cell_type": "code",
   "execution_count": 11,
   "metadata": {},
   "outputs": [],
   "source": [
    "words.append(\"eggs\")\n",
    "words.append(\"ham\")\n",
    "words.append(\"spam\")"
   ]
  },
  {
   "cell_type": "code",
   "execution_count": 11,
   "metadata": {},
   "outputs": [
    {
     "name": "stdout",
     "output_type": "stream",
     "text": [
      "eggs\n",
      "ham\n",
      "spam\n"
     ]
    }
   ],
   "source": [
    "current  = words.tail\n",
    "while current: \n",
    "    print(current.data)\n",
    "    current = current.next"
   ]
  },
  {
   "cell_type": "code",
   "execution_count": 18,
   "metadata": {},
   "outputs": [],
   "source": [
    "class SinglyLinkedList:\n",
    "    \n",
    "    def __init__(self):\n",
    "        self.tail = None  # points to the first node in the list\n",
    "        self.head = None  # ref for the last node in the list\n",
    "        self.count = 0\n",
    "    \n",
    "    def append(self, data):\n",
    "        # encapsulate the data \n",
    "        node = Node(data)\n",
    "        self.count += 1\n",
    "        if self.head:\n",
    "            self.head.next = node\n",
    "            self.head = node\n",
    "        else:\n",
    "            self.tail = node\n",
    "            self.head = node\n",
    "    \n",
    "    def iter(self):\n",
    "        \"\"\"\n",
    "        iterate list\n",
    "        \"\"\"\n",
    "        current = self.tail\n",
    "        while current:\n",
    "            val = current.data\n",
    "            current = current.next\n",
    "            yield val\n",
    "    \n",
    "    def delete(self, data):\n",
    "        \"\"\"\n",
    "        Delete a node from list\n",
    "        \"\"\"\n",
    "        current = self.tail\n",
    "        prev = self.tail\n",
    "        while current:\n",
    "            if current.data == data:\n",
    "                if current == self.tail:\n",
    "                    self.tail = current.next\n",
    "                else:\n",
    "                    prev.next = current.next\n",
    "                self.count -= 1\n",
    "                return\n",
    "            prev = current\n",
    "            current = current.next"
   ]
  },
  {
   "cell_type": "code",
   "execution_count": 19,
   "metadata": {},
   "outputs": [],
   "source": [
    "words = SinglyLinkedList()\n",
    "words.append(\"eggs\")\n",
    "words.append(\"ham\")\n",
    "words.append(\"spam\")"
   ]
  },
  {
   "cell_type": "code",
   "execution_count": 21,
   "metadata": {},
   "outputs": [
    {
     "name": "stdout",
     "output_type": "stream",
     "text": [
      "eggs\n",
      "ham\n"
     ]
    }
   ],
   "source": [
    "for word in words.iter():\n",
    "    print(word)"
   ]
  },
  {
   "cell_type": "code",
   "execution_count": 20,
   "metadata": {},
   "outputs": [],
   "source": [
    "words.delete('spam')"
   ]
  },
  {
   "cell_type": "code",
   "execution_count": 22,
   "metadata": {},
   "outputs": [
    {
     "name": "stdout",
     "output_type": "stream",
     "text": [
      "eggs\n",
      "ham\n"
     ]
    }
   ],
   "source": [
    "for word in words.iter():\n",
    "    print(word)"
   ]
  },
  {
   "cell_type": "code",
   "execution_count": null,
   "metadata": {},
   "outputs": [],
   "source": []
  }
 ],
 "metadata": {
  "kernelspec": {
   "display_name": ".venv",
   "language": "python",
   "name": ".venv"
  },
  "language_info": {
   "codemirror_mode": {
    "name": "ipython",
    "version": 3
   },
   "file_extension": ".py",
   "mimetype": "text/x-python",
   "name": "python",
   "nbconvert_exporter": "python",
   "pygments_lexer": "ipython3",
   "version": "3.7.3"
  }
 },
 "nbformat": 4,
 "nbformat_minor": 4
}
