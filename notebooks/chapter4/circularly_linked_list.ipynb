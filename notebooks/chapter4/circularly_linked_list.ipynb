{
 "cells": [
  {
   "cell_type": "markdown",
   "metadata": {},
   "source": [
    "## Lists and Pointer Structures"
   ]
  },
  {
   "cell_type": "markdown",
   "metadata": {},
   "source": [
    "## Circularly Linked lists"
   ]
  },
  {
   "cell_type": "code",
   "execution_count": 4,
   "metadata": {},
   "outputs": [],
   "source": [
    "class Node:\n",
    "    def __init__(self, data=None):\n",
    "        self.data = data\n",
    "        self.next = None\n",
    "\n",
    "class CircularList:\n",
    "    def __init__(self, data=None):\n",
    "        self.head = None\n",
    "        self.tail = None\n",
    "        self.size = 0\n",
    "\n",
    "    def clear(self):\n",
    "        self.tail = None\n",
    "        self.head = None\n",
    "\n",
    "    def append(self, data):\n",
    "        node = Node(data)\n",
    "        if self.head:\n",
    "            self.head.next = node\n",
    "            self.head = node\n",
    "        else:\n",
    "            self.head = node\n",
    "            self.tail = node\n",
    "        self.head.next = self.tail\n",
    "        self.size += 1\n",
    "\n",
    "    def delete(self, data):\n",
    "        current = self.tail\n",
    "        prev = self.tail\n",
    "        while prev == current or prev != self.head:\n",
    "            if current.data == data:\n",
    "                if current == self.tail:\n",
    "                    self.tail = current.next\n",
    "                    self.head.next = self.tail\n",
    "                else:\n",
    "                    prev.next = current.next\n",
    "                self.size -= 1\n",
    "                return\n",
    "            prev = current\n",
    "            current = current.next\n",
    "    \n",
    "    def iter(self):\n",
    "        current = self.tail\n",
    "        while current:\n",
    "            val = current.data\n",
    "            current = current.next\n",
    "            yield val\n"
   ]
  },
  {
   "cell_type": "code",
   "execution_count": 3,
   "metadata": {},
   "outputs": [],
   "source": [
    "words = CircularList()\n",
    "words.append('eggs')\n",
    "words.append('ham')\n",
    "words.append('spam')"
   ]
  },
  {
   "cell_type": "code",
   "execution_count": null,
   "metadata": {},
   "outputs": [],
   "source": []
  }
 ],
 "metadata": {
  "kernelspec": {
   "display_name": ".venv",
   "language": "python",
   "name": ".venv"
  },
  "language_info": {
   "codemirror_mode": {
    "name": "ipython",
    "version": 3
   },
   "file_extension": ".py",
   "mimetype": "text/x-python",
   "name": "python",
   "nbconvert_exporter": "python",
   "pygments_lexer": "ipython3",
   "version": "3.7.3"
  }
 },
 "nbformat": 4,
 "nbformat_minor": 4
}
