{
 "cells": [
  {
   "cell_type": "markdown",
   "metadata": {},
   "source": [
    "# Trees"
   ]
  },
  {
   "cell_type": "code",
   "execution_count": 17,
   "metadata": {},
   "outputs": [],
   "source": [
    "class Node:\n",
    "    def __init__(self, data):\n",
    "        self.data = data\n",
    "        self.left_child = None\n",
    "        self.right_child = None"
   ]
  },
  {
   "cell_type": "code",
   "execution_count": 23,
   "metadata": {},
   "outputs": [],
   "source": [
    "n1 = Node(\"root node\")  \n",
    "n2 = Node(\"left child node\") \n",
    "n3 = Node(\"right child node\") \n",
    "n4 = Node(\"left grandchild node\") \n",
    "n1.left_child = n2 \n",
    "n1.right_child = n3 \n",
    "n2.left_child = n4 "
   ]
  },
  {
   "cell_type": "code",
   "execution_count": 24,
   "metadata": {},
   "outputs": [
    {
     "name": "stdout",
     "output_type": "stream",
     "text": [
      "root node\n",
      "left child node\n",
      "left grandchild node\n"
     ]
    }
   ],
   "source": [
    "current = root = n1\n",
    "while current:\n",
    "    print(current.data)\n",
    "    current = current.left_child"
   ]
  },
  {
   "cell_type": "code",
   "execution_count": 35,
   "metadata": {},
   "outputs": [],
   "source": [
    "def inorder(root_node: Node):\n",
    "    if not root_node:\n",
    "        return\n",
    "    current = root_node\n",
    "    print(current.data)\n",
    "    if current.left_child:\n",
    "        inorder(current.left_child) \n",
    "    if current.right_child:\n",
    "        inorder(current.right_child) "
   ]
  },
  {
   "cell_type": "code",
   "execution_count": 36,
   "metadata": {},
   "outputs": [
    {
     "name": "stdout",
     "output_type": "stream",
     "text": [
      "root node\n",
      "left child node\n",
      "left grandchild node\n",
      "right child node\n"
     ]
    }
   ],
   "source": [
    "inorder(n1)"
   ]
  },
  {
   "cell_type": "code",
   "execution_count": 37,
   "metadata": {},
   "outputs": [
    {
     "name": "stdout",
     "output_type": "stream",
     "text": [
      "hello\n"
     ]
    }
   ],
   "source": [
    "inorder(Node(\"hello\"))"
   ]
  },
  {
   "cell_type": "code",
   "execution_count": 38,
   "metadata": {},
   "outputs": [],
   "source": [
    "inorder(None)"
   ]
  },
  {
   "cell_type": "code",
   "execution_count": 41,
   "metadata": {},
   "outputs": [],
   "source": [
    "def preorder(root_node: Node):\n",
    "    if not root_node:\n",
    "        return\n",
    "    current = root_node\n",
    "    print(current.data)\n",
    "    if current.left_child:\n",
    "        preorder(current.left_child)\n",
    "    if current.right_child:\n",
    "        preorder(current.right_child)"
   ]
  },
  {
   "cell_type": "code",
   "execution_count": 42,
   "metadata": {},
   "outputs": [
    {
     "name": "stdout",
     "output_type": "stream",
     "text": [
      "root node\n",
      "left child node\n",
      "left grandchild node\n",
      "right child node\n"
     ]
    }
   ],
   "source": [
    "preorder(n1)"
   ]
  },
  {
   "cell_type": "markdown",
   "metadata": {},
   "source": [
    "## Breadth-first"
   ]
  },
  {
   "cell_type": "code",
   "execution_count": 43,
   "metadata": {},
   "outputs": [],
   "source": [
    "from collections import deque"
   ]
  },
  {
   "cell_type": "code",
   "execution_count": 47,
   "metadata": {},
   "outputs": [],
   "source": [
    "def breadth_first_traversal(root_node): \n",
    "    list_of_nodes: list = [] \n",
    "    traversal_queue: deque = deque([root_node]) \n",
    "    while len(traversal_queue) > 0:\n",
    "         node = traversal_queue.popleft() \n",
    "         list_of_nodes.append(node.data) \n",
    "         if node.left_child: \n",
    "          traversal_queue.append(node.left_child) \n",
    "         if node.right_child: \n",
    "          traversal_queue.append(node.right_child) \n",
    "    return list_of_nodes"
   ]
  },
  {
   "cell_type": "code",
   "execution_count": 48,
   "metadata": {},
   "outputs": [
    {
     "name": "stdout",
     "output_type": "stream",
     "text": [
      "['root node', 'left child node', 'right child node', 'left grandchild node']\n"
     ]
    }
   ],
   "source": [
    "print(breadth_first_traversal(n1))"
   ]
  },
  {
   "cell_type": "code",
   "execution_count": null,
   "metadata": {},
   "outputs": [],
   "source": []
  }
 ],
 "metadata": {
  "kernelspec": {
   "display_name": ".venv",
   "language": "python",
   "name": ".venv"
  },
  "language_info": {
   "codemirror_mode": {
    "name": "ipython",
    "version": 3
   },
   "file_extension": ".py",
   "mimetype": "text/x-python",
   "name": "python",
   "nbconvert_exporter": "python",
   "pygments_lexer": "ipython3",
   "version": "3.7.3"
  }
 },
 "nbformat": 4,
 "nbformat_minor": 4
}
