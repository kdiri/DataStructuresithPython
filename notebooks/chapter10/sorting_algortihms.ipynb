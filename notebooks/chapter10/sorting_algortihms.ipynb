{
 "cells": [
  {
   "cell_type": "markdown",
   "metadata": {},
   "source": [
    "## Sorting Algorithms\n",
    "\n",
    "In this chapter, we'll study some of the most important and popular sorting techniques, including the following:\n",
    "\n",
    "* Bubble sort \n",
    "* Insertion sort \n",
    "* Selection sort \n",
    "* Quick sort \n",
    "* Heap sort"
   ]
  },
  {
   "cell_type": "markdown",
   "metadata": {},
   "source": [
    "    <img src=\"../images/complexity.png\">"
   ]
  },
  {
   "cell_type": "markdown",
   "metadata": {},
   "source": [
    "### Bubble Sort \n",
    "\n",
    "The idea behind the bubble sort algorithm is very simple. Given an unordered list, \n",
    "we compare adjacent elements in the list, and after each comparison, \n",
    "place them in the right order of magnitude. \n",
    "This works by swapping adjacent items if they are not in the correct order.\n",
    "The process is repeated n-1 times for a list of n items. In each such iteration, \n",
    "the largest element is arranged in the end."
   ]
  },
  {
   "cell_type": "code",
   "execution_count": 1,
   "metadata": {},
   "outputs": [
    {
     "name": "stdout",
     "output_type": "stream",
     "text": [
      "[4, 12, 23, 32, 45, 87]\n"
     ]
    }
   ],
   "source": [
    "list_to_be_sorted = [45, 23, 87, 12, 32, 4]\n",
    "\n",
    "for j in range(len(list_to_be_sorted)):\n",
    "    for i in range(j + 1, len(list_to_be_sorted)):\n",
    "        if list_to_be_sorted[j] > list_to_be_sorted[i]:\n",
    "            list_to_be_sorted[i], list_to_be_sorted[j] = list_to_be_sorted[j], list_to_be_sorted[i]\n",
    "\n",
    "print(list_to_be_sorted)"
   ]
  },
  {
   "cell_type": "markdown",
   "metadata": {},
   "source": [
    "### Insertion Sort Algorithms\n",
    "> In insertion sorting, we start with one element, assuming it to be sorted, and then take another element from the unsorted sub-list and place it at the correct position (in relation to the first element) in the sorted sub-list. This means that our sorted sub-list now has two elements. Then, we again take another element from the unsorted sub-list, and place it in the correct position (in relation to the two already sorted elements) in the sorted sub-list. We repeatedly follow this process to insert all the elements one by one from the unsorted sub-list into the sorted sub-list. The shaded elements denote the ordered sub-lists, and in each iteration, an element from the unordered sub-list is inserted at the correct position in the sorted sub-list."
   ]
  },
  {
   "cell_type": "code",
   "execution_count": 2,
   "metadata": {},
   "outputs": [
    {
     "name": "stdout",
     "output_type": "stream",
     "text": [
      "[4, 12, 23, 32, 45, 87]\n"
     ]
    }
   ],
   "source": [
    "list_to_be_sorted = [45, 23, 87, 12, 32, 4]\n",
    "sorted_list: list = [list_to_be_sorted[0]]\n",
    "    \n",
    "for i, element in enumerate(list_to_be_sorted):\n",
    "    if element not in sorted_list:\n",
    "        for j, ele in enumerate(sorted_list):\n",
    "            if element > ele and j+1 != len(sorted_list):\n",
    "                continue\n",
    "            if element > ele and j+1 == len(sorted_list):\n",
    "                sorted_list.insert(j+1, element)\n",
    "            elif element <= ele:\n",
    "                sorted_list.insert(j, element)\n",
    "            break                \n",
    "\n",
    "print(sorted_list)"
   ]
  },
  {
   "cell_type": "markdown",
   "metadata": {},
   "source": [
    "### Selection sort algorithms\n",
    "\n",
    "> The selection sorting algorithm begins by finding the smallest element in the list, and interchanges it with the data stored at the first position in the list. Thus, it makes the sub-list sorted up to the first element. Next, the second smallest element, which is the smallest element in the remaining list,\n",
    "is identified and interchanged with the second position in the list. This makes the initial two elements sorted. The process is repeated, and the smallest element remaining in the list should be swapped with the element in the third index on the list. This means that the first three elements are now sorted. This process is repeated for (n-1) times to sort n items."
   ]
  },
  {
   "cell_type": "code",
   "execution_count": 7,
   "metadata": {},
   "outputs": [
    {
     "name": "stdout",
     "output_type": "stream",
     "text": [
      "[4, 12, 23, 32, 45, 87]\n"
     ]
    }
   ],
   "source": [
    "list_to_be_sorted: list = [45, 23, 87, 12, 32, 4]\n",
    "    \n",
    "for j, element in enumerate(list_to_be_sorted):\n",
    "    smallest_index = j\n",
    "    for i, another_element in enumerate(list_to_be_sorted):\n",
    "        if element < another_element:\n",
    "            list_to_be_sorted[j], list_to_be_sorted[i] = list_to_be_sorted[i], list_to_be_sorted[j]\n",
    "print(list_to_be_sorted)"
   ]
  },
  {
   "cell_type": "markdown",
   "metadata": {},
   "source": [
    "## Quick sort algorithms\n",
    "> The quick sort algorithm is very efficient for sorting. The quick sort algorithm falls under the divide and conquer class of algorithms, similar to the merge sort algorithm, where we break (divide) a problem into smaller chunks that are much simpler to solve (conquer).\n",
    "\n",
    "\n",
    "### List partitioning\n",
    "> The concept behind quick sorting is partitioning a given list or array. To partition the list, we first select a pivot. All the elements in the list will be compared with this pivot. At the end of the partitioning process, all elements that are less than the pivot will be to the left of the pivot, while all elements greater than the pivot will lie to the right of the pivot in the array.\n",
    "\n",
    "### Pivot selection\n",
    "> For the sake of simplicity, we'll take the first element in an array as the pivot. This kind of pivot selection degrades in performance, especially when sorting an already sorted list. Randomly picking the middle or last element in the array as the pivot does not improve the performance of the quick sort. We will discuss a better approach to select the pivot and find the smallest element in a list in the next chapter."
   ]
  },
  {
   "cell_type": "code",
   "execution_count": null,
   "metadata": {},
   "outputs": [],
   "source": [
    "list_to_be_sorted: list = [45, 23, 87, 12, 72, 4, 54, 32, 52]"
   ]
  }
 ],
 "metadata": {
  "kernelspec": {
   "display_name": ".venv",
   "language": "python",
   "name": ".venv"
  },
  "language_info": {
   "codemirror_mode": {
    "name": "ipython",
    "version": 3
   },
   "file_extension": ".py",
   "mimetype": "text/x-python",
   "name": "python",
   "nbconvert_exporter": "python",
   "pygments_lexer": "ipython3",
   "version": "3.8.6"
  }
 },
 "nbformat": 4,
 "nbformat_minor": 4
}
