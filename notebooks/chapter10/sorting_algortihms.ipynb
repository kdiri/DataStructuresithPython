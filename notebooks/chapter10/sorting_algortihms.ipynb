{
 "cells": [
  {
   "cell_type": "markdown",
   "metadata": {},
   "source": [
    "## Sorting Algorithms\n",
    "\n",
    "In this chapter, we'll study some of the most important and popular sorting techniques, including the following:\n",
    "\n",
    "* Bubble sort \n",
    "* Insertion sort \n",
    "* Selection sort \n",
    "* Quick sort \n",
    "* Heap sort"
   ]
  },
  {
   "cell_type": "markdown",
   "metadata": {},
   "source": [
    "### Bubble Sort \n",
    "\n",
    "The idea behind the bubble sort algorithm is very simple. Given an unordered list, \n",
    "we compare adjacent elements in the list, and after each comparison, \n",
    "place them in the right order of magnitude. \n",
    "This works by swapping adjacent items if they are not in the correct order.\n",
    "The process is repeated n-1 times for a list of n items. In each such iteration, \n",
    "the largest element is arranged in the end."
   ]
  },
  {
   "cell_type": "code",
   "execution_count": 33,
   "metadata": {},
   "outputs": [
    {
     "name": "stdout",
     "output_type": "stream",
     "text": [
      "[4, 12, 23, 32, 45, 87]\n"
     ]
    }
   ],
   "source": [
    "list_to_be_sorted = [45, 23, 87, 12, 32, 4]\n",
    "\n",
    "for j in range(len(list_to_be_sorted)):\n",
    "    for i in range(j + 1, len(list_to_be_sorted)):\n",
    "        if list_to_be_sorted[j] > list_to_be_sorted[i]:\n",
    "            list_to_be_sorted[i], list_to_be_sorted[j] = list_to_be_sorted[j], list_to_be_sorted[i]\n",
    "\n",
    "print(list_to_be_sorted)"
   ]
  },
  {
   "cell_type": "markdown",
   "metadata": {},
   "source": [
    "### Insertion Sort Algorithms\n",
    "> In insertion sorting, we start with one element, assuming it to be sorted, and then take another element from the unsorted sub-list and place it at the correct position (in relation to the first element) in the sorted sub-list. This means that our sorted sub-list now has two elements. Then, we again take another element from the unsorted sub-list, and place it in the correct position (in relation to the two already sorted elements) in the sorted sub-list. We repeatedly follow this process to insert all the elements one by one from the unsorted sub-list into the sorted sub-list. The shaded elements denote the ordered sub-lists, and in each iteration, an element from the unordered sub-list is inserted at the correct position in the sorted sub-list."
   ]
  },
  {
   "cell_type": "code",
   "execution_count": 13,
   "metadata": {},
   "outputs": [
    {
     "name": "stdout",
     "output_type": "stream",
     "text": [
      "1 23\n",
      "2 87\n",
      "3 12\n",
      "4 32\n",
      "5 4\n",
      "deque([87, 45], maxlen=6)\n"
     ]
    }
   ],
   "source": [
    "from collections import deque\n",
    "\n",
    "list_to_be_sorted = [45, 23, 87, 12, 32, 4]\n",
    "sorted_list: deque = deque([list_to_be_sorted[0]], maxlen=len(list_to_be_sorted))\n",
    "    \n",
    "for i, element in enumerate(list_to_be_sorted):\n",
    "    if element not in sorted_list:\n",
    "        for j, ele in enumerate(sorted_list):\n",
    "            print(sorted_list)\n",
    "            if element > ele:\n",
    "                sorted_list.appendleft(element)\n",
    "                break\n",
    "\n",
    "print(sorted_list)"
   ]
  },
  {
   "cell_type": "code",
   "execution_count": null,
   "metadata": {},
   "outputs": [],
   "source": []
  }
 ],
 "metadata": {
  "kernelspec": {
   "display_name": ".venv",
   "language": "python",
   "name": ".venv"
  },
  "language_info": {
   "codemirror_mode": {
    "name": "ipython",
    "version": 3
   },
   "file_extension": ".py",
   "mimetype": "text/x-python",
   "name": "python",
   "nbconvert_exporter": "python",
   "pygments_lexer": "ipython3",
   "version": "3.8.6"
  }
 },
 "nbformat": 4,
 "nbformat_minor": 4
}
