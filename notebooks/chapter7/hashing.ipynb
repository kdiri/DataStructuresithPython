{
 "cells": [
  {
   "cell_type": "markdown",
   "metadata": {},
   "source": [
    "# Hashing & Symbol Tables"
   ]
  },
  {
   "cell_type": "code",
   "execution_count": 4,
   "metadata": {},
   "outputs": [
    {
     "data": {
      "text/plain": [
       "1116"
      ]
     },
     "execution_count": 4,
     "metadata": {},
     "output_type": "execute_result"
    }
   ],
   "source": [
    "sum(map(ord, \"hello world\"))"
   ]
  },
  {
   "attachments": {},
   "cell_type": "markdown",
   "metadata": {},
   "source": [
    "<img src=\"../images/ord.png\">"
   ]
  },
  {
   "cell_type": "code",
   "execution_count": 5,
   "metadata": {},
   "outputs": [
    {
     "data": {
      "text/plain": [
       "1116"
      ]
     },
     "execution_count": 5,
     "metadata": {},
     "output_type": "execute_result"
    }
   ],
   "source": [
    "sum(map(ord, 'gello xorld'))"
   ]
  },
  {
   "cell_type": "code",
   "execution_count": 12,
   "metadata": {},
   "outputs": [
    {
     "name": "stdout",
     "output_type": "stream",
     "text": [
      "hello world: 6736\n",
      "world hello: 6616\n",
      "gello xorld: 6742\n"
     ]
    }
   ],
   "source": [
    "def myhash(s):\n",
    "    mult: int = 1\n",
    "    hv: int = 0\n",
    "    \n",
    "    for ch in s:\n",
    "        hv += mult * ord(ch)\n",
    "        mult += 1\n",
    "    return hv\n",
    "\n",
    "for item in ('hello world', 'world hello', 'gello xorld'): \n",
    "    print(\"{}: {}\".format(item, myhash(item)))"
   ]
  },
  {
   "cell_type": "code",
   "execution_count": 16,
   "metadata": {},
   "outputs": [],
   "source": [
    "class HashItem:\n",
    "    def __init__(self, key, value):\n",
    "        self.key = key\n",
    "        self.value = value\n",
    "        \n",
    "class HashTable:\n",
    "    def __init__(self):\n",
    "        self.size = 256\n",
    "        self.slots = [None for i in range(self.size)]\n",
    "        self.count = 0\n",
    "    \n",
    "    def _hash(self, key):\n",
    "        mult: int = 1\n",
    "        hv: int = 0 \n",
    "        for ch in key:\n",
    "            hv += mult * ord(ch)\n",
    "            mult += 1\n",
    "        return hv % self.size\n",
    "    \n",
    "    def put(self, key, value):\n",
    "        item = HashItem(key, value)\n",
    "        h = self._hash(key)\n",
    "        \n",
    "        while self.slots[h] is not None:\n",
    "            if self.slots[h].key is key:\n",
    "                break\n",
    "            h = (h + 1) % self.size\n",
    "        if self.slots[h] is None:\n",
    "            self.count += 1\n",
    "        self.slots[h] = item\n",
    "    \n",
    "    def get(self, key):\n",
    "        h = self._hash(key)\n",
    "        while self.slots[h] is not None:\n",
    "            if self.slots[h].key is key:\n",
    "                return self.slots[h].value\n",
    "            h = (h+ 1) % self.size\n",
    "        return None"
   ]
  },
  {
   "cell_type": "code",
   "execution_count": 17,
   "metadata": {},
   "outputs": [
    {
     "name": "stdout",
     "output_type": "stream",
     "text": [
      "egg\n",
      "ham\n",
      "spam\n",
      "do not\n",
      "collide\n"
     ]
    }
   ],
   "source": [
    "ht = HashTable()\n",
    "ht.put(\"good\", \"egg\")\n",
    "ht.put(\"better\", \"ham\")\n",
    "ht.put(\"best\", \"spam\")\n",
    "ht.put(\"ad\", \"do not\")\n",
    "ht.put(\"ga\", \"collide\")\n",
    "\n",
    "for key in (\"good\", \"better\", \"best\", \"ad\", \"ga\"):\n",
    "    vt = ht.get(key)\n",
    "    print(vt)"
   ]
  },
  {
   "cell_type": "code",
   "execution_count": null,
   "metadata": {},
   "outputs": [],
   "source": []
  }
 ],
 "metadata": {
  "kernelspec": {
   "display_name": ".venv",
   "language": "python",
   "name": ".venv"
  },
  "language_info": {
   "codemirror_mode": {
    "name": "ipython",
    "version": 3
   },
   "file_extension": ".py",
   "mimetype": "text/x-python",
   "name": "python",
   "nbconvert_exporter": "python",
   "pygments_lexer": "ipython3",
   "version": "3.7.3"
  }
 },
 "nbformat": 4,
 "nbformat_minor": 4
}
