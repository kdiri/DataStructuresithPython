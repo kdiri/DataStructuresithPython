{
 "cells": [
  {
   "cell_type": "markdown",
   "metadata": {},
   "source": [
    "## Linear Search"
   ]
  },
  {
   "cell_type": "code",
   "execution_count": 3,
   "metadata": {},
   "outputs": [],
   "source": [
    "def linear_search(unordored_list: list, term: int):\n",
    "    unordered_list_size = len(unordored_list)\n",
    "    for i in range(unordered_list_size):\n",
    "        if term == unordered_list_size[i]:\n",
    "            return i\n",
    "    return None"
   ]
  },
  {
   "cell_type": "markdown",
   "metadata": {},
   "source": [
    "## Binary Search\n",
    "\n",
    "The worst-case running time complexity of \n",
    "a binary search algorithm is **O(log n)** whereas the **linear search** has **O(n)**"
   ]
  },
  {
   "cell_type": "code",
   "execution_count": 10,
   "metadata": {},
   "outputs": [],
   "source": [
    "def binary_search(ordered_list: list, term: int):\n",
    "    size_of_list = len(ordered_list) - 1\n",
    "    index_of_first_element = 0 \n",
    "    index_of_last_element = size_of_list\n",
    "    \n",
    "    while index_of_first_element <= index_of_last_element:\n",
    "        mid_point = (index_of_first_element + index_of_last_element) // 2\n",
    "        \n",
    "        if ordered_list[mid_point] == term:\n",
    "            # bingo\n",
    "            return mid_point\n",
    "        # if the number that I search is greater than mid_point\n",
    "        # use the second part of list\n",
    "        if term > ordered_list[mid_point]:\n",
    "            index_of_first_element = mid_point + 1\n",
    "        # if the number that I search is smaller than mid_point\n",
    "        # use the first part of list\n",
    "        else:\n",
    "            index_of_last_element = mid_point - 1\n",
    "    \n",
    "    # Not found\n",
    "    if index_of_first_element > index_of_last_element:\n",
    "        return None"
   ]
  },
  {
   "cell_type": "code",
   "execution_count": 12,
   "metadata": {},
   "outputs": [
    {
     "name": "stdout",
     "output_type": "stream",
     "text": [
      "6\n"
     ]
    }
   ],
   "source": [
    "print(binary_search(sorted([47, 49, 55, 53, 40, 43, 37, 25, 11, 4, 1]), 43))"
   ]
  },
  {
   "cell_type": "markdown",
   "metadata": {},
   "source": [
    "## Interpolation search\n",
    "\n",
    "Improved binary search. "
   ]
  },
  {
   "cell_type": "code",
   "execution_count": 24,
   "metadata": {},
   "outputs": [],
   "source": [
    "def nearest_mid(input_list: list, lower_bound_index: int, upper_bound_index: int, search_value: int):\n",
    "    print(f\"{lower_bound_index} + (( {upper_bound_index} - {lower_bound_index})// ({input_list[upper_bound_index]} - {input_list[lower_bound_index]})) * ({search_value} - {input_list[lower_bound_index]})\")\n",
    "    return lower_bound_index + (( upper_bound_index - lower_bound_index)// (input_list[upper_bound_index] - input_list[lower_bound_index])) * (search_value - input_list[lower_bound_index])"
   ]
  },
  {
   "cell_type": "code",
   "execution_count": 25,
   "metadata": {},
   "outputs": [
    {
     "name": "stdout",
     "output_type": "stream",
     "text": [
      "[44, 60, 75, 100, 120, 230, 250]\n",
      "0 + (( 6 - 0)// (250 - 44)) * (230 - 44)\n"
     ]
    },
    {
     "data": {
      "text/plain": [
       "0"
      ]
     },
     "execution_count": 25,
     "metadata": {},
     "output_type": "execute_result"
    }
   ],
   "source": [
    "input_list = sorted([44, 60, 75, 100, 120, 230, 250])\n",
    "print(input_list)\n",
    "nearest_mid(input_list=input_list, lower_bound_index=0, upper_bound_index=len(input_list)-1, search_value=230)"
   ]
  },
  {
   "cell_type": "code",
   "execution_count": null,
   "metadata": {},
   "outputs": [],
   "source": []
  }
 ],
 "metadata": {
  "kernelspec": {
   "display_name": ".venv",
   "language": "python",
   "name": ".venv"
  },
  "language_info": {
   "codemirror_mode": {
    "name": "ipython",
    "version": 3
   },
   "file_extension": ".py",
   "mimetype": "text/x-python",
   "name": "python",
   "nbconvert_exporter": "python",
   "pygments_lexer": "ipython3",
   "version": "3.7.3"
  }
 },
 "nbformat": 4,
 "nbformat_minor": 4
}
