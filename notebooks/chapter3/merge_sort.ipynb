{
 "cells": [
  {
   "cell_type": "markdown",
   "metadata": {},
   "source": [
    "## Merge Sort"
   ]
  },
  {
   "cell_type": "code",
   "execution_count": 1,
   "metadata": {},
   "outputs": [],
   "source": [
    "def merge_sort(A: list):\n",
    "    # if length of list one or zero just return\n",
    "    if len(A) > 1:\n",
    "        # Splitting input array\n",
    "        print(f\"Splitting {A}\")\n",
    "        mid = len(A) // 2\n",
    "        left = A[:mid]\n",
    "        right = A[mid:]\n",
    "        \n",
    "        # recursive calls to merge sort for left and right sub arrays\n",
    "        merge_sort(left)\n",
    "        merge_sort(right)\n",
    "        # initialize pointers for left(i) and right(j) and output array (k)\n",
    "        i = j = k = 0 \n",
    "        # Traverse and merges the sorted arrays\n",
    "        while i < len(left) and j < len(right):\n",
    "            if left[i] < right[j]:\n",
    "                A[k] = left[i]\n",
    "                i += 1\n",
    "            else:  # right <= left\n",
    "                A[k] = right[j]\n",
    "                j += 1\n",
    "                k += 1\n",
    "                \n",
    "        while i < len(left):\n",
    "            A[k] = left[i]\n",
    "            i += 1\n",
    "            k += 1\n",
    "        \n",
    "        while j < len(right):\n",
    "            A[k] = right[j]\n",
    "            j += 1\n",
    "            k += 1\n",
    "    print(f\"Merging A: {A}\")\n",
    "    return(A)"
   ]
  },
  {
   "cell_type": "code",
   "execution_count": 2,
   "metadata": {},
   "outputs": [
    {
     "name": "stdout",
     "output_type": "stream",
     "text": [
      "Splitting [356, 97, 846, 215]\n",
      "Splitting [356, 97]\n",
      "Merging A: [356]\n",
      "Merging A: [97]\n",
      "Merging A: [97, 356]\n",
      "Splitting [846, 215]\n",
      "Merging A: [846]\n",
      "Merging A: [215]\n",
      "Merging A: [215, 846]\n",
      "Merging A: [215, 846, 846, 215]\n"
     ]
    },
    {
     "data": {
      "text/plain": [
       "[215, 846, 846, 215]"
      ]
     },
     "execution_count": 2,
     "metadata": {},
     "output_type": "execute_result"
    }
   ],
   "source": [
    "merge_sort([356, 97, 846, 215])"
   ]
  },
  {
   "cell_type": "code",
   "execution_count": 4,
   "metadata": {},
   "outputs": [
    {
     "name": "stdout",
     "output_type": "stream",
     "text": [
      "Requirement already satisfied: matplotlib in /Users/kdiri/github/DataStructuresithPython/.venv/lib/python3.7/site-packages (3.3.1)\n",
      "Requirement already satisfied: python-dateutil>=2.1 in /Users/kdiri/github/DataStructuresithPython/.venv/lib/python3.7/site-packages (from matplotlib) (2.8.1)\n",
      "Requirement already satisfied: cycler>=0.10 in /Users/kdiri/github/DataStructuresithPython/.venv/lib/python3.7/site-packages (from matplotlib) (0.10.0)\n",
      "Requirement already satisfied: pillow>=6.2.0 in /Users/kdiri/github/DataStructuresithPython/.venv/lib/python3.7/site-packages (from matplotlib) (7.2.0)\n",
      "Requirement already satisfied: kiwisolver>=1.0.1 in /Users/kdiri/github/DataStructuresithPython/.venv/lib/python3.7/site-packages (from matplotlib) (1.2.0)\n",
      "Requirement already satisfied: numpy>=1.15 in /Users/kdiri/github/DataStructuresithPython/.venv/lib/python3.7/site-packages (from matplotlib) (1.19.2)\n",
      "Requirement already satisfied: pyparsing!=2.0.4,!=2.1.2,!=2.1.6,>=2.0.3 in /Users/kdiri/github/DataStructuresithPython/.venv/lib/python3.7/site-packages (from matplotlib) (2.4.7)\n",
      "Requirement already satisfied: certifi>=2020.06.20 in /Users/kdiri/github/DataStructuresithPython/.venv/lib/python3.7/site-packages (from matplotlib) (2020.6.20)\n",
      "Requirement already satisfied: six>=1.5 in /Users/kdiri/github/DataStructuresithPython/.venv/lib/python3.7/site-packages (from python-dateutil>=2.1->matplotlib) (1.15.0)\n",
      "\u001b[33mYou are using pip version 19.0.3, however version 20.2.3 is available.\n",
      "You should consider upgrading via the 'pip install --upgrade pip' command.\u001b[0m\n"
     ]
    }
   ],
   "source": [
    "!pip3 install matplotlib"
   ]
  },
  {
   "cell_type": "code",
   "execution_count": 6,
   "metadata": {},
   "outputs": [
    {
     "data": {
      "image/png": "[encoded data removed]",
      "text/plain": [
       "<Figure size 432x288 with 1 Axes>"
      ]
     },
     "metadata": {
      "needs_background": "light"
     },
     "output_type": "display_data"
    }
   ],
   "source": [
    "import matplotlib.pyplot as plt \n",
    "import math\n",
    "x = list(range(1,100))\n",
    "l=[]; l2=[]; \n",
    "a=1\n",
    "plt.plot(x, [y*y for y in x])\n",
    "plt.plot(x, [(7*y)*math.log(y,2) for y in x]) \n",
    "plt.show()"
   ]
  },
  {
   "cell_type": "code",
   "execution_count": 7,
   "metadata": {},
   "outputs": [],
   "source": [
    "from typing import List\n",
    "def searching(search_arr: List[int], x: int):\n",
    "    for i, val in enumerate(search_arr):\n",
    "        if val == x:\n",
    "            return i\n",
    "    else:\n",
    "        return -1"
   ]
  },
  {
   "cell_type": "code",
   "execution_count": 11,
   "metadata": {},
   "outputs": [
    {
     "name": "stdout",
     "output_type": "stream",
     "text": [
      "Index position for the element 4 from the list [3, 4, 1, 16, 44] is: 1\n"
     ]
    }
   ],
   "source": [
    "search_arr = [3, 4, 1, 16, 44]\n",
    "x = 4\n",
    "print(f\"Index position for the element {x} from the list {search_arr} is: {searching(search_arr, x)}\")"
   ]
  },
  {
   "cell_type": "code",
   "execution_count": null,
   "metadata": {},
   "outputs": [],
   "source": []
  }
 ],
 "metadata": {
  "kernelspec": {
   "display_name": ".venv",
   "language": "python",
   "name": ".venv"
  },
  "language_info": {
   "codemirror_mode": {
    "name": "ipython",
    "version": 3
   },
   "file_extension": ".py",
   "mimetype": "text/x-python",
   "name": "python",
   "nbconvert_exporter": "python",
   "pygments_lexer": "ipython3",
   "version": "3.7.3"
  }
 },
 "nbformat": 4,
 "nbformat_minor": 4
}
