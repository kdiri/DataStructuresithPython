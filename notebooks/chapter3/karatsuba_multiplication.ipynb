{
 "cells": [
  {
   "cell_type": "code",
   "execution_count": 1,
   "metadata": {},
   "outputs": [
    {
     "name": "stdout",
     "output_type": "stream",
     "text": [
      "4264704\n"
     ]
    }
   ],
   "source": [
    "from math import log10 \n",
    "import math\n",
    "\n",
    "def karatsuba(x,y):\n",
    "\n",
    "#The base case for recursion \n",
    "\tfrom math import log10 \n",
    "\tif x<10 or y<10:\n",
    "\t\treturn x*y\n",
    "\n",
    "#sets n,the number of digits in the highest input number\n",
    "\tn=max(int(log10(x)+1), int(log10(y)+1))\n",
    "  \n",
    "\t#roundsupn/2\n",
    "\tn_2=int(math.ceil(n/2.0))\n",
    "\t#adds 1 if n is uneven\n",
    "\tn=n if n%2 == 0 else n+1\n",
    "\t\n",
    "\t#splits the input numbers\n",
    "\ta, b = divmod(x, 10**n_2)\n",
    "\tc, d = divmod(y,10**n_2)\n",
    "\t#applies the three recursive steps \n",
    "\tac = karatsuba(a,c)\n",
    "\tbd = karatsuba(b,d)\n",
    "\tad_bc = karatsuba((a+b),(c+d))-ac-bd\n",
    "\n",
    "\t#performs the multiplication\n",
    "\treturn (((10**n)*ac) + bd + ((10**n_2)*(ad_bc)))\n",
    "\n",
    "\n",
    "t= karatsuba(1234,3456)\n",
    "print(t)"
   ]
  },
  {
   "cell_type": "code",
   "execution_count": null,
   "metadata": {},
   "outputs": [],
   "source": []
  }
 ],
 "metadata": {
  "kernelspec": {
   "display_name": ".venv",
   "language": "python",
   "name": ".venv"
  },
  "language_info": {
   "codemirror_mode": {
    "name": "ipython",
    "version": 3
   },
   "file_extension": ".py",
   "mimetype": "text/x-python",
   "name": "python",
   "nbconvert_exporter": "python",
   "pygments_lexer": "ipython3",
   "version": "3.7.3"
  }
 },
 "nbformat": 4,
 "nbformat_minor": 4
}
