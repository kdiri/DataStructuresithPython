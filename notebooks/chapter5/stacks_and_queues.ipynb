{
 "cells": [
  {
   "cell_type": "markdown",
   "metadata": {},
   "source": [
    "# Stacks\n",
    "\n",
    "## LIFO"
   ]
  },
  {
   "cell_type": "code",
   "execution_count": 1,
   "metadata": {},
   "outputs": [],
   "source": [
    "class Node:\n",
    "    def __init__(self, data=None):\n",
    "        self.data = data \n",
    "        self.next = None"
   ]
  },
  {
   "cell_type": "code",
   "execution_count": 2,
   "metadata": {},
   "outputs": [],
   "source": [
    "class Stack:\n",
    "    def __init__(self):\n",
    "        self.top = None\n",
    "        self.size = 0\n",
    "        \n",
    "    def push(self, data):\n",
    "        node = Node(data)\n",
    "        if self.top:\n",
    "            node.next = self.top\n",
    "            self.top = node\n",
    "        else:\n",
    "            self.top = node\n",
    "        self.size += 1\n",
    "    \n",
    "    def pop(self):\n",
    "        if self.top:\n",
    "            data = self.top.data\n",
    "            self.size -= 1\n",
    "            if self.top.next:\n",
    "                self.top = None\n",
    "            return data\n",
    "        else:\n",
    "            return None\n",
    "    \n",
    "    def peek(self):\n",
    "        \"\"\"Just return top element.\"\"\"\n",
    "        if self.top:\n",
    "            return self.top.data\n",
    "        else:\n",
    "            return None"
   ]
  },
  {
   "cell_type": "markdown",
   "metadata": {},
   "source": [
    "# Queues\n",
    "\n",
    "### FIFO"
   ]
  },
  {
   "cell_type": "code",
   "execution_count": 3,
   "metadata": {},
   "outputs": [],
   "source": [
    "class ListQueue:\n",
    "    def __init__(self):\n",
    "        self.items: list = []  # queue is empty\n",
    "        self.size = 0 \n",
    "    \n",
    "    def enqueue(self, data):\n",
    "        self.items.insert(0, data)\n",
    "        self.size += 1\n",
    "    def dequeue(self):\n",
    "        data = self.items.pop()\n",
    "        self.size -= 1\n",
    "        return data\n",
    "    "
   ]
  },
  {
   "cell_type": "code",
   "execution_count": 4,
   "metadata": {},
   "outputs": [
    {
     "name": "stdout",
     "output_type": "stream",
     "text": [
      "3\n"
     ]
    }
   ],
   "source": [
    "q = ListQueue()\n",
    "q.enqueue(4)\n",
    "q.enqueue('dog')\n",
    "q.enqueue('True')\n",
    "\n",
    "a = q.size\n",
    "print(a)"
   ]
  },
  {
   "cell_type": "code",
   "execution_count": 5,
   "metadata": {},
   "outputs": [
    {
     "data": {
      "text/plain": [
       "4"
      ]
     },
     "execution_count": 5,
     "metadata": {},
     "output_type": "execute_result"
    }
   ],
   "source": [
    "q.dequeue()"
   ]
  },
  {
   "cell_type": "code",
   "execution_count": null,
   "metadata": {},
   "outputs": [],
   "source": []
  }
 ],
 "metadata": {
  "kernelspec": {
   "display_name": ".venv",
   "language": "python",
   "name": ".venv"
  },
  "language_info": {
   "codemirror_mode": {
    "name": "ipython",
    "version": 3
   },
   "file_extension": ".py",
   "mimetype": "text/x-python",
   "name": "python",
   "nbconvert_exporter": "python",
   "pygments_lexer": "ipython3",
   "version": "3.7.3"
  }
 },
 "nbformat": 4,
 "nbformat_minor": 4
}
