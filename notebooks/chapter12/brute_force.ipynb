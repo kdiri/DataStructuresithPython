{
 "cells": [
  {
   "cell_type": "code",
   "execution_count": 1,
   "metadata": {},
   "outputs": [
    {
     "name": "stdout",
     "output_type": "stream",
     "text": [
      "\n",
      "Pattern occours at index 14\n"
     ]
    }
   ],
   "source": [
    "def brute_force(text, pattern):\n",
    "    len_text: int = len(text)\n",
    "    len_pattern: int = len(pattern)\n",
    "    i: int = 0\n",
    "    j: int = 0          \n",
    "    flag: bool = False\n",
    "    \n",
    "    while i < len_text:\n",
    "        j: int = 0\n",
    "        count: int = 0\n",
    "        while j < len_pattern:\n",
    "            if i + j < len_text and text[i + j] == pattern[j]:\n",
    "                count += 1\n",
    "            j += 1\n",
    "        if count == len_pattern:\n",
    "            print(\"\\nPattern occours at index\",i)\n",
    "            flag = True\n",
    "        i += 1\n",
    "    if not flag:\n",
    "        print('\\nPattern is not at all present in the array')\n",
    "\n",
    "brute_force('acbcabccababcaacbcaabacbbc','acbcaa')"
   ]
  },
  {
   "cell_type": "code",
   "execution_count": null,
   "metadata": {},
   "outputs": [],
   "source": []
  }
 ],
 "metadata": {
  "kernelspec": {
   "display_name": ".venv",
   "language": "python",
   "name": ".venv"
  },
  "language_info": {
   "codemirror_mode": {
    "name": "ipython",
    "version": 3
   },
   "file_extension": ".py",
   "mimetype": "text/x-python",
   "name": "python",
   "nbconvert_exporter": "python",
   "pygments_lexer": "ipython3",
   "version": "3.8.6"
  }
 },
 "nbformat": 4,
 "nbformat_minor": 4
}
