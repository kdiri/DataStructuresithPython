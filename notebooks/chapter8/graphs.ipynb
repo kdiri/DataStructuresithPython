{
 "cells": [
  {
   "cell_type": "markdown",
   "metadata": {},
   "source": [
    "# Graphs"
   ]
  },
  {
   "cell_type": "code",
   "execution_count": 1,
   "metadata": {},
   "outputs": [],
   "source": [
    "graph: dict = {}"
   ]
  },
  {
   "cell_type": "code",
   "execution_count": 2,
   "metadata": {},
   "outputs": [],
   "source": [
    "graph[\"A\"] = [\"B\", \"C\"]\n",
    "graph[\"B\"] = [\"E\", \"C\", \"A\"]\n",
    "graph[\"C\"] = [\"A\", \"B\", \"E\", \"F\"]\n",
    "graph[\"E\"] = [\"B\", \"C\"]\n",
    "graph[\"F\"] = [\"C\"]"
   ]
  },
  {
   "cell_type": "code",
   "execution_count": 3,
   "metadata": {},
   "outputs": [],
   "source": [
    "matrix_elements = (sorted(list(graph)))"
   ]
  },
  {
   "cell_type": "code",
   "execution_count": 4,
   "metadata": {},
   "outputs": [],
   "source": [
    "cols = rows = len(matrix_elements)"
   ]
  },
  {
   "cell_type": "code",
   "execution_count": 5,
   "metadata": {},
   "outputs": [],
   "source": [
    "adjaceny_matrix = [[0 for x in range(rows)] for y in range(cols)]"
   ]
  },
  {
   "cell_type": "code",
   "execution_count": 9,
   "metadata": {},
   "outputs": [],
   "source": [
    "edges_list: list = [(str, str)]"
   ]
  },
  {
   "cell_type": "code",
   "execution_count": 11,
   "metadata": {},
   "outputs": [],
   "source": [
    "for key in matrix_elements:\n",
    "    for neighbor in graph[key]:\n",
    "        edges_list.append((key, neighbor))"
   ]
  },
  {
   "cell_type": "code",
   "execution_count": 12,
   "metadata": {},
   "outputs": [
    {
     "data": {
      "text/plain": [
       "[('A', 'B'),\n",
       " ('A', 'C'),\n",
       " ('B', 'E'),\n",
       " ('B', 'C'),\n",
       " ('B', 'A'),\n",
       " ('C', 'A'),\n",
       " ('C', 'B'),\n",
       " ('C', 'E'),\n",
       " ('C', 'F'),\n",
       " ('E', 'B'),\n",
       " ('E', 'C'),\n",
       " ('F', 'C')]"
      ]
     },
     "execution_count": 12,
     "metadata": {},
     "output_type": "execute_result"
    }
   ],
   "source": [
    "edges_list"
   ]
  },
  {
   "cell_type": "code",
   "execution_count": 16,
   "metadata": {},
   "outputs": [],
   "source": [
    "for edge in edges_list:\n",
    "    index_of_first_vertex = matrix_elements.index(edge[0])\n",
    "    index_of_second_vertex = matrix_elements.index(edge[1])\n",
    "    adjaceny_matrix[index_of_first_vertex][index_of_second_vertex] = 1"
   ]
  },
  {
   "cell_type": "code",
   "execution_count": 17,
   "metadata": {},
   "outputs": [
    {
     "data": {
      "text/plain": [
       "[[1, 1, 1, 0, 0],\n",
       " [1, 1, 1, 1, 0],\n",
       " [1, 1, 1, 1, 1],\n",
       " [0, 1, 1, 1, 0],\n",
       " [0, 0, 1, 0, 1]]"
      ]
     },
     "execution_count": 17,
     "metadata": {},
     "output_type": "execute_result"
    }
   ],
   "source": [
    "adjaceny_matrix"
   ]
  },
  {
   "cell_type": "markdown",
   "metadata": {},
   "source": [
    "## Graph Traversals\n",
    "\n",
    "### Breadth-first traversal"
   ]
  },
  {
   "cell_type": "markdown",
   "metadata": {},
   "source": [
    "<img src=\"../images/graph.png\">"
   ]
  },
  {
   "cell_type": "code",
   "execution_count": 18,
   "metadata": {},
   "outputs": [],
   "source": [
    "from collections import defaultdict\n",
    "graph: defaultdict = defaultdict(list)\n",
    "graph[\"A\"] = [\"B\", \"G\", \"D\"]\n",
    "graph[\"B\"] = [\"A\", \"F\", \"E\"]\n",
    "graph[\"C\"] = [\"F\", \"H\"]\n",
    "graph[\"D\"] = [\"A\", \"F\"]\n",
    "graph[\"E\"] = [\"B\", \"G\"]\n",
    "graph[\"F\"] = [\"B\", \"C\", \"D\"]\n",
    "graph[\"G\"] = [\"A\", \"E\"]\n",
    "graph[\"H\"] = [\"C\"]"
   ]
  },
  {
   "cell_type": "code",
   "execution_count": 19,
   "metadata": {},
   "outputs": [],
   "source": [
    "from collections import deque\n",
    "def breadth_first_search(graph, root):\n",
    "    visited_vertices: list = []\n",
    "    graph_queue: deque = deque([root])\n",
    "    visited_vertices.append(root)\n",
    "    node = root\n",
    "    \n",
    "    while len(graph_queue):\n",
    "        node = graph_queue.popleft()\n",
    "        adj_nodes = graph[node]\n",
    "        \n",
    "        remaining_elements = set(adj_nodes).difference(set(visited_vertices))\n",
    "        if len(remaining_elements):\n",
    "            for elem in sorted(remaining_elements):\n",
    "                visited_vertices.append(elem)\n",
    "                graph_queue.append(elem)\n",
    "    return visited_vertices\n"
   ]
  },
  {
   "cell_type": "code",
   "execution_count": 20,
   "metadata": {},
   "outputs": [
    {
     "data": {
      "text/plain": [
       "['A', 'B', 'D', 'G', 'E', 'F', 'C', 'H']"
      ]
     },
     "execution_count": 20,
     "metadata": {},
     "output_type": "execute_result"
    }
   ],
   "source": [
    "breadth_first_search(graph, \"A\")"
   ]
  },
  {
   "cell_type": "markdown",
   "metadata": {},
   "source": [
    "## Depth-first search"
   ]
  },
  {
   "cell_type": "code",
   "execution_count": 21,
   "metadata": {},
   "outputs": [],
   "source": [
    "graph: dict = {}\n",
    "graph['A'] = ['B', 'S'] \n",
    "graph['B'] = ['A'] \n",
    "graph['S'] = ['A','G','C'] \n",
    "graph['D'] = ['C'] \n",
    "graph['G'] = ['S','F','H'] \n",
    "graph['H'] = ['G','E'] \n",
    "graph['E'] = ['C','H'] \n",
    "graph['F'] = ['C','G'] \n",
    "graph['C'] = ['D','S','E','F'] "
   ]
  },
  {
   "cell_type": "code",
   "execution_count": null,
   "metadata": {},
   "outputs": [],
   "source": []
  }
 ],
 "metadata": {
  "kernelspec": {
   "display_name": ".venv",
   "language": "python",
   "name": ".venv"
  },
  "language_info": {
   "codemirror_mode": {
    "name": "ipython",
    "version": 3
   },
   "file_extension": ".py",
   "mimetype": "text/x-python",
   "name": "python",
   "nbconvert_exporter": "python",
   "pygments_lexer": "ipython3",
   "version": "3.7.3"
  }
 },
 "nbformat": 4,
 "nbformat_minor": 4
}
