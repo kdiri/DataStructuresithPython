{
 "cells": [
  {
   "cell_type": "markdown",
   "metadata": {},
   "source": [
    "# Selection Algorithms"
   ]
  },
  {
   "cell_type": "code",
   "execution_count": 1,
   "metadata": {},
   "outputs": [
    {
     "name": "stdout",
     "output_type": "stream",
     "text": [
      "[5, 3]\n",
      "3\n",
      "[3, 5]\n",
      "3\n",
      "[3, 1, 10, 4, 6, 5]\n",
      "1\n"
     ]
    }
   ],
   "source": [
    "def partition(unsorted_array, first_index, last_index):\n",
    "\n",
    "    pivot = unsorted_array[first_index]\n",
    "    pivot_index = first_index\n",
    "    index_of_last_element = last_index\n",
    "\n",
    "    less_than_pivot_index = index_of_last_element\n",
    "    greater_than_pivot_index = first_index + 1\n",
    "\n",
    "    while True:\n",
    "\n",
    "        while unsorted_array[greater_than_pivot_index] < pivot and greater_than_pivot_index < last_index:\n",
    "            greater_than_pivot_index += 1\n",
    "        while unsorted_array[less_than_pivot_index] > pivot and less_than_pivot_index >= first_index:\n",
    "            less_than_pivot_index -= 1\n",
    "\n",
    "        if greater_than_pivot_index < less_than_pivot_index:\n",
    "            temp = unsorted_array[greater_than_pivot_index]\n",
    "            unsorted_array[greater_than_pivot_index] = unsorted_array[less_than_pivot_index]\n",
    "            unsorted_array[less_than_pivot_index] = temp\n",
    "        else:\n",
    "            break\n",
    "\n",
    "    unsorted_array[pivot_index] = unsorted_array[less_than_pivot_index]\n",
    "    unsorted_array[less_than_pivot_index] = pivot\n",
    "\n",
    "    return less_than_pivot_index\n",
    "\n",
    "\n",
    "def quick_select(array_list, left, right, k):\n",
    "\n",
    "    split = partition(array_list, left, right)\n",
    "\n",
    "    if split == k:\n",
    "        return array_list[split]\n",
    "    elif split < k:\n",
    "        return quick_select(array_list, split + 1, right, k)\n",
    "    else:\n",
    "        return quick_select(array_list, left, split-1, k)\n",
    "\n",
    "\n",
    "\n",
    "stored = [5, 3]\n",
    "print(stored)\n",
    "print(quick_select(stored, 0, 1, 0))\n",
    "\n",
    "stored = [3, 5]\n",
    "print(stored)\n",
    "print(quick_select(stored, 0, 1, 0))\n",
    "\n",
    "\n",
    "\n",
    "\n",
    "\n",
    "\n",
    "stored = [3,1,10,4,6,5]\n",
    "print(stored)\n",
    "print(quick_select(stored, 0, 5, 0))"
   ]
  },
  {
   "cell_type": "code",
   "execution_count": null,
   "metadata": {},
   "outputs": [],
   "source": []
  }
 ],
 "metadata": {
  "kernelspec": {
   "display_name": ".venv",
   "language": "python",
   "name": ".venv"
  },
  "language_info": {
   "codemirror_mode": {
    "name": "ipython",
    "version": 3
   },
   "file_extension": ".py",
   "mimetype": "text/x-python",
   "name": "python",
   "nbconvert_exporter": "python",
   "pygments_lexer": "ipython3",
   "version": "3.8.6"
  }
 },
 "nbformat": 4,
 "nbformat_minor": 4
}
